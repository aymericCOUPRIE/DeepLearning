{
  "nbformat": 4,
  "nbformat_minor": 0,
  "metadata": {
    "kernelspec": {
      "display_name": "Python 3",
      "language": "python",
      "name": "python3"
    },
    "language_info": {
      "codemirror_mode": {
        "name": "ipython",
        "version": 3
      },
      "file_extension": ".py",
      "mimetype": "text/x-python",
      "name": "python",
      "nbconvert_exporter": "python",
      "pygments_lexer": "ipython3",
      "version": "3.8.5"
    },
    "colab": {
      "name": "TP 0 - Rappels python et Numpy (sujet).ipynb",
      "provenance": [],
      "collapsed_sections": [
        "lbAuUzWdS2vS",
        "RnBDlggRS2vS",
        "Fq5W-MlUS2vS",
        "kiVRF3EOS2vS"
      ],
      "include_colab_link": true
    }
  },
  "cells": [
    {
      "cell_type": "markdown",
      "metadata": {
        "id": "view-in-github",
        "colab_type": "text"
      },
      "source": [
        "<a href=\"https://colab.research.google.com/github/aymericCOUPRIE/DeepLearning/blob/main/TP_0_Rappels_python_et_Numpy_(sujet).ipynb\" target=\"_parent\"><img src=\"https://colab.research.google.com/assets/colab-badge.svg\" alt=\"Open In Colab\"/></a>"
      ]
    },
    {
      "cell_type": "markdown",
      "metadata": {
        "id": "Z29MC1woS2vR"
      },
      "source": [
        "# Rappels de python et utilisation de Numpy"
      ]
    },
    {
      "cell_type": "markdown",
      "metadata": {
        "id": "8AkXp4mFS2vR"
      },
      "source": [
        "Les modèles d'apprentissage, comme beaucoup d'autres que vous verez (comme les modèles profonds), mettent en oeuvre des opérations sur les données d'entrées telles que des applications linéaires, des non-linéarités, des opérations d'aggrégation etc... Dans votre longue carrière d'expert en Machine Learning, vous serez donc souvent amenés à manipuler des jeux de données vectorielles et à effectuer toutes sortes d'opérations et calculs sur celles-ci. C'est pourquoi vous vous familliariserez dans un premier temps dans ce TP avec la librairie python $\\texttt{numpy}$ qui implémente de multiples fonctions de calculs scientifiques.\n",
        "\n",
        "Ce TP est divisé en deux parties. La première partie consiste simplement en un rappel des types de base en python (nombres entiers, flotant, booléens, liste) ainsi que des opérations élémentaires que l'on peut effectuer sur ces objets. Prenez un moment pour bien vérifier que ces opérations de bases vous soient bien acquises. La deuxième partie de l'exercice consiste à apprendre à effectuer des opérations sur les matrices et les vecteurs avec l'aide de la bibliothèque $\\texttt{numpy}$, un outil crucial pour faire du calcul scientifique en python."
      ]
    },
    {
      "cell_type": "markdown",
      "metadata": {
        "id": "NCW7Mm3XS2vR"
      },
      "source": [
        "## Opérations et structures numériques de base en python"
      ]
    },
    {
      "cell_type": "markdown",
      "metadata": {
        "id": "-NfexOxOS2vR"
      },
      "source": [
        "### Exemples d'operation sur les nombres"
      ]
    },
    {
      "cell_type": "markdown",
      "metadata": {
        "id": "2qULGPa_S2vR"
      },
      "source": [
        "**Declarer un entier**"
      ]
    },
    {
      "cell_type": "code",
      "metadata": {
        "colab": {
          "base_uri": "https://localhost:8080/"
        },
        "id": "fBZj0sipS2vR",
        "outputId": "c841a1d5-5f71-4329-e81a-25350774d99e"
      },
      "source": [
        "x = 3\n",
        "print(\"x = %d\" % x)\n",
        "print(\"Le type de x est type(x): %s\" % type(x)) "
      ],
      "execution_count": 1,
      "outputs": [
        {
          "output_type": "stream",
          "text": [
            "x = 3\n",
            "Le type de x est type(x): <class 'int'>\n"
          ],
          "name": "stdout"
        }
      ]
    },
    {
      "cell_type": "markdown",
      "metadata": {
        "id": "MtsGtRrbS2vR"
      },
      "source": [
        "**Declarer un floatant**"
      ]
    },
    {
      "cell_type": "code",
      "metadata": {
        "colab": {
          "base_uri": "https://localhost:8080/"
        },
        "id": "GSVoTH8VS2vR",
        "outputId": "4f47b6bb-ecb1-4c3d-93cf-3102b766be36"
      },
      "source": [
        "y = 4.2\n",
        "print(\"y = %d\" % y)\n",
        "print(\"y = %.1f\" % y)\n",
        "print(\"Le type de y est type(y): %s\" % type(y)) "
      ],
      "execution_count": 2,
      "outputs": [
        {
          "output_type": "stream",
          "text": [
            "y = 4\n",
            "y = 4.2\n",
            "Le type de y est type(y): <class 'float'>\n"
          ],
          "name": "stdout"
        }
      ]
    },
    {
      "cell_type": "markdown",
      "metadata": {
        "id": "u5gR9BiDS2vR"
      },
      "source": [
        "**Exemples d'opérations**"
      ]
    },
    {
      "cell_type": "code",
      "metadata": {
        "colab": {
          "base_uri": "https://localhost:8080/"
        },
        "id": "n_XFOF01S2vR",
        "outputId": "50d15188-ad70-4dcc-a92d-8b504c542d57"
      },
      "source": [
        "#### Exemple d'addition\n",
        "print(\"x + 1 = %d\" % (x+1))\n",
        "\n",
        "#### Exemple d'addition entre int et float (le resultat est au format float)\n",
        "print(\"x + y = %.3f\" % (x+y))     \n",
        "\n",
        "#### Incrémentation\n",
        "x += 2\n",
        "print(\"La nouvelle valeur de x = %d\" % x) \n",
        "\n",
        "### Puissance d'un entier\n",
        "print(\"x a la puissance 2: x**2 = %d\" % (x**2))"
      ],
      "execution_count": 3,
      "outputs": [
        {
          "output_type": "stream",
          "text": [
            "x + 1 = 4\n",
            "x + y = 7.200\n",
            "La nouvelle valeur de x = 5\n",
            "x a la puissance 2: x**2 = 25\n"
          ],
          "name": "stdout"
        }
      ]
    },
    {
      "cell_type": "markdown",
      "metadata": {
        "id": "MmvfYRUfS2vR"
      },
      "source": [
        "### Les booléens"
      ]
    },
    {
      "cell_type": "code",
      "metadata": {
        "colab": {
          "base_uri": "https://localhost:8080/"
        },
        "id": "tih-UQijS2vR",
        "outputId": "11e54500-c6ee-4a73-f022-182dd8f2e0c2"
      },
      "source": [
        "t = True\n",
        "f = False\n",
        "\n",
        "print(type(f)) \n",
        "print(t and f) \n",
        "print(t or f)  \n",
        "print(not t) \n",
        "\n",
        "x=3; y=2\n",
        "print(x == y) \n",
        "print(x==3)  "
      ],
      "execution_count": 4,
      "outputs": [
        {
          "output_type": "stream",
          "text": [
            "<class 'bool'>\n",
            "False\n",
            "True\n",
            "False\n",
            "False\n",
            "True\n"
          ],
          "name": "stdout"
        }
      ]
    },
    {
      "cell_type": "markdown",
      "metadata": {
        "id": "NmcnPyZGS2vR"
      },
      "source": [
        "### Les listes"
      ]
    },
    {
      "cell_type": "markdown",
      "metadata": {
        "id": "-mfNeOA9S2vR"
      },
      "source": [
        "#### Declarer une liste vide"
      ]
    },
    {
      "cell_type": "code",
      "metadata": {
        "colab": {
          "base_uri": "https://localhost:8080/"
        },
        "id": "cW5QWV67S2vS",
        "outputId": "7bb78306-467e-4de4-ff22-6d89200f6a8e"
      },
      "source": [
        "l_empty = []\n",
        "print(l_empty)"
      ],
      "execution_count": 5,
      "outputs": [
        {
          "output_type": "stream",
          "text": [
            "[]\n"
          ],
          "name": "stdout"
        }
      ]
    },
    {
      "cell_type": "markdown",
      "metadata": {
        "id": "lbAuUzWdS2vS"
      },
      "source": [
        "#### Declarer une liste contenant des éléments"
      ]
    },
    {
      "cell_type": "code",
      "metadata": {
        "colab": {
          "base_uri": "https://localhost:8080/"
        },
        "id": "yCDOqa0IS2vS",
        "outputId": "bb8637fc-6796-4660-f10c-f145d385d9da"
      },
      "source": [
        "l = [11, 5, 9, 10]\n",
        "print(l)"
      ],
      "execution_count": 6,
      "outputs": [
        {
          "output_type": "stream",
          "text": [
            "[11, 5, 9, 10]\n"
          ],
          "name": "stdout"
        }
      ]
    },
    {
      "cell_type": "markdown",
      "metadata": {
        "id": "RnBDlggRS2vS"
      },
      "source": [
        "#### Acceder au i-eme element d'une liste"
      ]
    },
    {
      "cell_type": "code",
      "metadata": {
        "colab": {
          "base_uri": "https://localhost:8080/"
        },
        "id": "l-MnAf2HS2vS",
        "outputId": "b08cc639-610d-4682-a500-401cba5457f6"
      },
      "source": [
        "l[0]"
      ],
      "execution_count": 7,
      "outputs": [
        {
          "output_type": "execute_result",
          "data": {
            "text/plain": [
              "11"
            ]
          },
          "metadata": {
            "tags": []
          },
          "execution_count": 7
        }
      ]
    },
    {
      "cell_type": "markdown",
      "metadata": {
        "id": "Fq5W-MlUS2vS"
      },
      "source": [
        "#### Affichage du nombre d'element dans la liste"
      ]
    },
    {
      "cell_type": "code",
      "metadata": {
        "colab": {
          "base_uri": "https://localhost:8080/"
        },
        "id": "yoY9KTnLS2vS",
        "outputId": "aa31e906-7a7c-4fa6-d15e-e1703e3316f5"
      },
      "source": [
        "print(\"Le nombre d'elements dans l est len(l): %d\" % len(l))\n",
        "print(\"Le nombre d'elements dans l_empty est len(l_empty): %d\" % len(l_empty))\n",
        "print(\"Le dernier element de la liste est l[-1] = %d\" % l[-1])"
      ],
      "execution_count": 8,
      "outputs": [
        {
          "output_type": "stream",
          "text": [
            "Le nombre d'elements dans l est len(l): 4\n",
            "Le nombre d'elements dans l_empty est len(l_empty): 0\n",
            "Le dernier element de la liste est l[-1] = 10\n"
          ],
          "name": "stdout"
        }
      ]
    },
    {
      "cell_type": "markdown",
      "metadata": {
        "id": "kiVRF3EOS2vS"
      },
      "source": [
        "#### Parcourir les elements d'une liste\n",
        "\n",
        "On boucle sur les elements de l pour les afficher un a un:"
      ]
    },
    {
      "cell_type": "code",
      "metadata": {
        "colab": {
          "base_uri": "https://localhost:8080/"
        },
        "id": "g6BEvpSPS2vS",
        "outputId": "63faffd4-f211-4abd-c721-5aaa067ff674"
      },
      "source": [
        "for i in range(len(l)):\n",
        "    print(l[i])"
      ],
      "execution_count": 9,
      "outputs": [
        {
          "output_type": "stream",
          "text": [
            "11\n",
            "5\n",
            "9\n",
            "10\n"
          ],
          "name": "stdout"
        }
      ]
    },
    {
      "cell_type": "code",
      "metadata": {
        "colab": {
          "base_uri": "https://localhost:8080/"
        },
        "id": "LmfLuAx7S2vS",
        "outputId": "13d831b0-eece-4652-983e-8feafc68115a"
      },
      "source": [
        "for i in l:\n",
        "    print(i)"
      ],
      "execution_count": 10,
      "outputs": [
        {
          "output_type": "stream",
          "text": [
            "11\n",
            "5\n",
            "9\n",
            "10\n"
          ],
          "name": "stdout"
        }
      ]
    },
    {
      "cell_type": "markdown",
      "metadata": {
        "id": "MyrnESiuS2vS"
      },
      "source": [
        "On boucle sur les elements de l pour les afficher un à un avec leur indice correspondant avec la primitive 'enumerate'"
      ]
    },
    {
      "cell_type": "code",
      "metadata": {
        "colab": {
          "base_uri": "https://localhost:8080/"
        },
        "id": "zXRhSud4S2vS",
        "outputId": "ff2f79e1-4755-4303-aa78-3d8207966416"
      },
      "source": [
        "for i, e in enumerate(l):\n",
        "    print(\"Le %d eme element de la liste est l[%d] = %d\" % (i, i, l[i]) )"
      ],
      "execution_count": 11,
      "outputs": [
        {
          "output_type": "stream",
          "text": [
            "Le 0 eme element de la liste est l[0] = 11\n",
            "Le 1 eme element de la liste est l[1] = 5\n",
            "Le 2 eme element de la liste est l[2] = 9\n",
            "Le 3 eme element de la liste est l[3] = 10\n"
          ],
          "name": "stdout"
        }
      ]
    },
    {
      "cell_type": "markdown",
      "metadata": {
        "id": "doIz25BvS2vS"
      },
      "source": [
        "## Manipulation des matrices et vecteurs avec Numpy"
      ]
    },
    {
      "cell_type": "code",
      "metadata": {
        "id": "D8VnmOu3S2vS"
      },
      "source": [
        "import numpy as np"
      ],
      "execution_count": 12,
      "outputs": []
    },
    {
      "cell_type": "markdown",
      "metadata": {
        "id": "Tz14u-nzS2vS"
      },
      "source": [
        "Dans cet exercice, vous allez vous exercer à effectuer les opérations de bases nécéssaires pour apprendre les paramètres d'une régression linéaire ainsi qu'effectuer des prédictions à partir du modèle appris. Numpy est une bibliothèque logicielle open source qui fournit de multiples fonctions permettant notamment de manipuler et effectuer des opérations sur des structures matricielles et vectorielles. En Numpy, ces structures peuvent être obtenues à l'aide du même objet générique qui permet d'instancier n'importe quel tableau multidimensionnel : $\\texttt{Ndarray}$.\n",
        "\n",
        "$\\texttt{Ndarray}$ est l'objet principal de NumPy, il s'agit d'une table d'éléments (généralement des nombres), tous du même type, indexés par un tuple d'entiers positifs (commençant par $0$, pas comme en Matlab). Les dimensions de la structure sont appelées axes. Ainsi, les vecteurs et les matrices peuvent être instanciés de manière générique avec un Ndarray comprenant respectivement 1 et 2 axes. \n",
        "\n",
        "### Opérations sur les vecteurs\n",
        "Nous allons apprendre à créer et manipuler des vecteurs avec Numpy. Les premières lignes du code sont simplement à examiner pour comprendre les bases. Vous aurez ensuite à répondre à une série de questions pour apprendre à effectuer certaines opérations sur les vecteurs.\n",
        "\n",
        "**Instancier des vecteurs :**\n",
        "Il existe différentes manières de déclarer et instancier un vecteur d'un espace de dimension donnée. Les premières lignes de cette partie du code vous donnent différents exemples."
      ]
    },
    {
      "cell_type": "code",
      "metadata": {
        "colab": {
          "base_uri": "https://localhost:8080/"
        },
        "id": "uSfx9LFbS2vS",
        "outputId": "51edd10f-73e4-4183-a071-0f16a690ce26"
      },
      "source": [
        "print(\"Instantiation d'un vecteur R^2 (2 dimension reelles):\") \n",
        "np.ndarray(2)"
      ],
      "execution_count": 13,
      "outputs": [
        {
          "output_type": "stream",
          "text": [
            "Instantiation d'un vecteur R^2 (2 dimension reelles):\n"
          ],
          "name": "stdout"
        },
        {
          "output_type": "execute_result",
          "data": {
            "text/plain": [
              "array([1.57423307e-316, 0.00000000e+000])"
            ]
          },
          "metadata": {
            "tags": []
          },
          "execution_count": 13
        }
      ]
    },
    {
      "cell_type": "code",
      "metadata": {
        "colab": {
          "base_uri": "https://localhost:8080/"
        },
        "id": "pgWKY9xJS2vS",
        "outputId": "fc8a1535-adbb-495f-eefd-b65b07352ed1"
      },
      "source": [
        "print(\"Vecteur nul dans R 2 (2 dimension reelles):\") \n",
        "np.zeros(2)"
      ],
      "execution_count": 14,
      "outputs": [
        {
          "output_type": "stream",
          "text": [
            "Vecteur nul dans R 2 (2 dimension reelles):\n"
          ],
          "name": "stdout"
        },
        {
          "output_type": "execute_result",
          "data": {
            "text/plain": [
              "array([0., 0.])"
            ]
          },
          "metadata": {
            "tags": []
          },
          "execution_count": 14
        }
      ]
    },
    {
      "cell_type": "code",
      "metadata": {
        "colab": {
          "base_uri": "https://localhost:8080/"
        },
        "id": "UkPJUpqoS2vS",
        "outputId": "d6254799-c462-4f9b-df1c-efb7ae7d5133"
      },
      "source": [
        "print(\"Vecteur remplie de 1 dans R 5:\")   \n",
        "np.ones(5)"
      ],
      "execution_count": 15,
      "outputs": [
        {
          "output_type": "stream",
          "text": [
            "Vecteur remplie de 1 dans R 5:\n"
          ],
          "name": "stdout"
        },
        {
          "output_type": "execute_result",
          "data": {
            "text/plain": [
              "array([1., 1., 1., 1., 1.])"
            ]
          },
          "metadata": {
            "tags": []
          },
          "execution_count": 15
        }
      ]
    },
    {
      "cell_type": "code",
      "metadata": {
        "colab": {
          "base_uri": "https://localhost:8080/"
        },
        "id": "wHP-bWerS2vS",
        "outputId": "1d24b6fd-bf0c-4d81-d79c-c03900d5a558"
      },
      "source": [
        "print(\"Vecteur dans R 4 contenant des valeurs aléatoires:\")  #     \n",
        "x = np.random.random(4)\n",
        "print(x)"
      ],
      "execution_count": 16,
      "outputs": [
        {
          "output_type": "stream",
          "text": [
            "Vecteur dans R 4 contenant des valeurs aléatoires:\n",
            "[0.85480936 0.29785793 0.09131576 0.34170354]\n"
          ],
          "name": "stdout"
        }
      ]
    },
    {
      "cell_type": "markdown",
      "metadata": {
        "id": "Li4ou_9pS2vS"
      },
      "source": [
        "**Accès aux valeurs des vecteurs :** Les valeurs des tableaux Numpy sont accessibles de façon similaire aux listes simples en python. Gardez bien en tête que le système d'indiçage/indexation pour accéder aux éléments d'une liste/tableau se fait bien dans l'interval $[0;N-1]$ pour un tableau à N éléments. Il est également possible d'accéder et retourner en une seule ligne de commande aux plusieurs valeurs du vecteur en spécifiant un interval d'indices que l'on veut retourner. \n",
        "\n",
        "Par exemple, pour retourner de la composante (dimension) 2 à la composante 4 d'un vecteur:\n"
      ]
    },
    {
      "cell_type": "code",
      "metadata": {
        "colab": {
          "base_uri": "https://localhost:8080/"
        },
        "id": "HwPSqQ5yS2vS",
        "outputId": "33287405-38e4-44a4-d687-888c44644272"
      },
      "source": [
        "y = x[2:4]  \n",
        "print(y)"
      ],
      "execution_count": 17,
      "outputs": [
        {
          "output_type": "stream",
          "text": [
            "[0.09131576 0.34170354]\n"
          ],
          "name": "stdout"
        }
      ]
    },
    {
      "cell_type": "markdown",
      "metadata": {
        "id": "gOf2JhAxS2vS"
      },
      "source": [
        "Le resultat est retourné sous la forme d'un nouveau vecteur y. On peut aussi retourner les 3 premières composantes du tableau comme suit:"
      ]
    },
    {
      "cell_type": "code",
      "metadata": {
        "colab": {
          "base_uri": "https://localhost:8080/"
        },
        "id": "Rc4eVlgCS2vS",
        "outputId": "396f5bf2-cd6e-4bdc-c450-e6d994f18be4"
      },
      "source": [
        "print(x[:3])     # ici, \":3\" signifie du 1er aux 3 eme élément inclus"
      ],
      "execution_count": 18,
      "outputs": [
        {
          "output_type": "stream",
          "text": [
            "[0.85480936 0.29785793 0.09131576]\n"
          ],
          "name": "stdout"
        }
      ]
    },
    {
      "cell_type": "markdown",
      "metadata": {
        "id": "yvp3CgZ8S2vS"
      },
      "source": [
        "ou bien retourner de la 3eme composante à la dernière comme ceci:"
      ]
    },
    {
      "cell_type": "code",
      "metadata": {
        "id": "uCBFeIuhS2vS"
      },
      "source": [
        "y = x[3:]     # ici, \"3:\" signifie daux 3 eme au dernier élément"
      ],
      "execution_count": 19,
      "outputs": []
    },
    {
      "cell_type": "markdown",
      "metadata": {
        "id": "o0InaoCSS2vS"
      },
      "source": [
        "ou encore les deux dernières cases :"
      ]
    },
    {
      "cell_type": "code",
      "metadata": {
        "colab": {
          "base_uri": "https://localhost:8080/"
        },
        "id": "V8nWwWWyS2vS",
        "outputId": "ceeaec05-0cc8-4b87-ea33-67d579f0d62a"
      },
      "source": [
        "y = x[-2:]\n",
        "print(y)"
      ],
      "execution_count": 20,
      "outputs": [
        {
          "output_type": "stream",
          "text": [
            "[0.09131576 0.34170354]\n"
          ],
          "name": "stdout"
        }
      ]
    },
    {
      "cell_type": "markdown",
      "metadata": {
        "id": "LE49pDMTS2vS"
      },
      "source": [
        "**Récuperation de la dimension d'un vecteur:** examiner les dimensions du tableau numpy :\n",
        "\n",
        "\n",
        "Ici, on montre que l'on peut accéder aux dimensions des axes du tableau multidimensionel avec \\textit{shape}. Cette dernière renvoit sous les dimensions sous la forme d'un tuple. Dans notre cas, notre vecteur correspond à un tableau à un seul axe. La dimension d'un vecteur $\\mathbf{x}$ peut donc être obtenue comme suit:"
      ]
    },
    {
      "cell_type": "code",
      "metadata": {
        "colab": {
          "base_uri": "https://localhost:8080/"
        },
        "id": "NuiYBUA0S2vS",
        "outputId": "fc628fa6-5c41-4852-e79e-f0b0d4886931"
      },
      "source": [
        "print(x.shape)  #La valeur de la dimension du 1er (et seul) axe du tableau"
      ],
      "execution_count": 21,
      "outputs": [
        {
          "output_type": "stream",
          "text": [
            "(4,)\n"
          ],
          "name": "stdout"
        }
      ]
    },
    {
      "cell_type": "markdown",
      "metadata": {
        "id": "A6lcJEKCS2vS"
      },
      "source": [
        "**Parcours des valeurs du vecteur :**\n",
        "\n",
        "Ici, on montre comment on peut boucler sur les éléments d'un vecteur de 3 façons: en itérant sur les indices puis acceder aux valeurs par les indices, en itérant directement sur les éléments du tableau, puis en itérant à la fois sur les indices ET les éléments avec enumerate."
      ]
    },
    {
      "cell_type": "markdown",
      "metadata": {
        "id": "OzYAACbZS2vS"
      },
      "source": [
        "Parcourez les valeurs du vecteur y avec en bouclant directement sur les elements du vecteur. Note ici on n'incremente plus directement sur les indices mais sur les element du vecteur, pour retrouver l'indice en cours, on doit faire l'incrementration a la main."
      ]
    },
    {
      "cell_type": "code",
      "metadata": {
        "colab": {
          "base_uri": "https://localhost:8080/"
        },
        "id": "-hDq81ZIS2vS",
        "outputId": "0b4f9ca0-6e10-4848-83e0-f837a99a7d16"
      },
      "source": [
        "i=0\n",
        "for x_i in x:\n",
        "    print(\"La valeur de la %d eme composante est: %f\" % (i,x_i))\n",
        "    i += 1"
      ],
      "execution_count": 22,
      "outputs": [
        {
          "output_type": "stream",
          "text": [
            "La valeur de la 0 eme composante est: 0.854809\n",
            "La valeur de la 1 eme composante est: 0.297858\n",
            "La valeur de la 2 eme composante est: 0.091316\n",
            "La valeur de la 3 eme composante est: 0.341704\n"
          ],
          "name": "stdout"
        }
      ]
    },
    {
      "cell_type": "markdown",
      "metadata": {
        "id": "xhBLXbRTS2vS"
      },
      "source": [
        "Faites la meme chose avec la fonction enumerate pour avoir acces aux indices sans faire d'incrementation"
      ]
    },
    {
      "cell_type": "code",
      "metadata": {
        "colab": {
          "base_uri": "https://localhost:8080/"
        },
        "id": "l71rlmKlS2vS",
        "outputId": "6a206beb-e58b-406c-d64a-5805b887713a"
      },
      "source": [
        "for i, x_i in enumerate(x):\n",
        "    print(\"La valeur de la %d eme composante est: %f\" % (i,x_i))"
      ],
      "execution_count": 23,
      "outputs": [
        {
          "output_type": "stream",
          "text": [
            "La valeur de la 0 eme composante est: 0.854809\n",
            "La valeur de la 1 eme composante est: 0.297858\n",
            "La valeur de la 2 eme composante est: 0.091316\n",
            "La valeur de la 3 eme composante est: 0.341704\n"
          ],
          "name": "stdout"
        }
      ]
    },
    {
      "cell_type": "markdown",
      "metadata": {
        "id": "CFQ1S-1nS2vS"
      },
      "source": [
        "**Recuperez les n derniere composante composantes**"
      ]
    },
    {
      "cell_type": "markdown",
      "metadata": {
        "id": "D5tcomVaS2vS"
      },
      "source": [
        "Recuperez les 3 derniere composante composantes avec x[dim-3:] ou x[-3:] (on va de la composante dim-3 à la dernière (:):"
      ]
    },
    {
      "cell_type": "code",
      "metadata": {
        "colab": {
          "base_uri": "https://localhost:8080/"
        },
        "id": "wJHxacBNS2vS",
        "outputId": "de96fc8b-2226-490e-ab7c-de4679bedec5"
      },
      "source": [
        "dim = x.shape[0]\n",
        "print( x[dim-3:] )\n",
        "print(x[-3:])"
      ],
      "execution_count": 24,
      "outputs": [
        {
          "output_type": "stream",
          "text": [
            "[0.29785793 0.09131576 0.34170354]\n",
            "[0.29785793 0.09131576 0.34170354]\n"
          ],
          "name": "stdout"
        }
      ]
    },
    {
      "cell_type": "markdown",
      "metadata": {
        "id": "4STAdejSS2vS"
      },
      "source": [
        "Recuperez les composantes de 3 a la derniere"
      ]
    },
    {
      "cell_type": "code",
      "metadata": {
        "colab": {
          "base_uri": "https://localhost:8080/"
        },
        "id": "3K8sjbDJS2vS",
        "outputId": "49ef4e16-cedd-4717-8e9e-be3aed7bbfa3"
      },
      "source": [
        "print(x[3:])"
      ],
      "execution_count": 25,
      "outputs": [
        {
          "output_type": "stream",
          "text": [
            "[0.34170354]\n"
          ],
          "name": "stdout"
        }
      ]
    },
    {
      "cell_type": "markdown",
      "metadata": {
        "id": "LkgmbZZ_S2vS"
      },
      "source": [
        "Recuperez les composantes alant de l'indice 3 a 7"
      ]
    },
    {
      "cell_type": "code",
      "metadata": {
        "colab": {
          "base_uri": "https://localhost:8080/"
        },
        "id": "rb8PPUwiS2vS",
        "outputId": "a4f8fa05-358e-478c-ccf4-153ede7a3aa3"
      },
      "source": [
        "print(x[3:7])"
      ],
      "execution_count": 26,
      "outputs": [
        {
          "output_type": "stream",
          "text": [
            "[0.34170354]\n"
          ],
          "name": "stdout"
        }
      ]
    },
    {
      "cell_type": "markdown",
      "metadata": {
        "id": "fb-ed0_OS2vS"
      },
      "source": [
        "### PARTIE QUESTIONS : A VOUS DE JOUER !\n",
        "Dans cette partie vous serez amenés à utiliser certaines fonctions de calcul numpy très pratiques pour effectuer des opération d'algèbre linéaire tel qu'un produit scalaire entre deux vecteurs $\\mathbf{x}$ et $\\mathbf{y}$ (avec np.dot(x,y)). Nous verrons par la suite qu'étant donnée que le ndarray est un objet générique cette fonction \"produit scalaire\" de numpy peut également être utilisé pour les produits matriciels."
      ]
    },
    {
      "cell_type": "markdown",
      "metadata": {
        "id": "2wKzqJmKS2vS"
      },
      "source": [
        "Soit les deux vecteurs suivant:"
      ]
    },
    {
      "cell_type": "code",
      "metadata": {
        "colab": {
          "base_uri": "https://localhost:8080/"
        },
        "id": "AfmUdyRhS2vS",
        "outputId": "142bc6fa-2784-4b87-ad87-2fa5fdb19bb9"
      },
      "source": [
        "x = np.random.normal(0,1,size=4)\n",
        "y = np.random.normal(0,1,size=4)\n",
        "print(x, y)"
      ],
      "execution_count": 27,
      "outputs": [
        {
          "output_type": "stream",
          "text": [
            "[-1.36180816  0.87536976 -1.12987826  0.74665225] [-0.01355987  0.31267231 -0.75921794 -0.71721743]\n"
          ],
          "name": "stdout"
        }
      ]
    },
    {
      "cell_type": "markdown",
      "metadata": {
        "id": "1b9bBBReS2vS"
      },
      "source": [
        "1) Addition des vecteur: x + y:"
      ]
    },
    {
      "cell_type": "code",
      "metadata": {
        "colab": {
          "base_uri": "https://localhost:8080/"
        },
        "id": "CK-MKTRYS2vS",
        "outputId": "68c0d759-3dbc-41a9-a8d3-61ac9da5f687"
      },
      "source": [
        "print(x + y)"
      ],
      "execution_count": 28,
      "outputs": [
        {
          "output_type": "stream",
          "text": [
            "[-1.37536803  1.18804207 -1.88909619  0.02943482]\n"
          ],
          "name": "stdout"
        }
      ]
    },
    {
      "cell_type": "markdown",
      "metadata": {
        "id": "mB5P3OvMS2vS"
      },
      "source": [
        "2) Combinaison lineaire des vecteurs 4.2 * x + 1.2 * y:"
      ]
    },
    {
      "cell_type": "code",
      "metadata": {
        "colab": {
          "base_uri": "https://localhost:8080/"
        },
        "id": "hnSvR4HFS2vS",
        "outputId": "91e6ac4d-e2d3-48c6-aa11-8beb2f33a5d8"
      },
      "source": [
        "print(4.2 * x + 1.2 * y)"
      ],
      "execution_count": 29,
      "outputs": [
        {
          "output_type": "stream",
          "text": [
            "[-5.73586612  4.05175975 -5.6565502   2.27527852]\n"
          ],
          "name": "stdout"
        }
      ]
    },
    {
      "cell_type": "markdown",
      "metadata": {
        "id": "jM0Qk1UbS2vS"
      },
      "source": [
        "3) Lister avec une boucle les elements de x a la puissance 2:"
      ]
    },
    {
      "cell_type": "code",
      "metadata": {
        "colab": {
          "base_uri": "https://localhost:8080/"
        },
        "id": "kiWPlzdQS2vS",
        "outputId": "1a66fa0b-63d1-450b-f291-171d55883068"
      },
      "source": [
        "for i in x:\n",
        "  print(pow(i, 2))"
      ],
      "execution_count": 30,
      "outputs": [
        {
          "output_type": "stream",
          "text": [
            "1.8545214693780778\n",
            "0.7662722132678439\n",
            "1.276624875696221\n",
            "0.5574895764972039\n"
          ],
          "name": "stdout"
        }
      ]
    },
    {
      "cell_type": "markdown",
      "metadata": {
        "id": "ZlGVVYzRS2vS"
      },
      "source": [
        "4) Generer et mettre dans un vecteur elements de x a la puissance 2 en une seule commande:"
      ]
    },
    {
      "cell_type": "code",
      "metadata": {
        "colab": {
          "base_uri": "https://localhost:8080/"
        },
        "id": "MWSy6XxLS2vT",
        "outputId": "0f4d790e-29f2-410b-fc8f-2afebfafa08b"
      },
      "source": [
        "z = [pow(i, 2) for i in x]\n",
        "print(z)"
      ],
      "execution_count": 31,
      "outputs": [
        {
          "output_type": "stream",
          "text": [
            "[1.8545214693780778, 0.7662722132678439, 1.276624875696221, 0.5574895764972039]\n"
          ],
          "name": "stdout"
        }
      ]
    },
    {
      "cell_type": "markdown",
      "metadata": {
        "id": "O3tvpWFiS2vT"
      },
      "source": [
        "5) La somme des elements de x avec une boucle:"
      ]
    },
    {
      "cell_type": "code",
      "metadata": {
        "colab": {
          "base_uri": "https://localhost:8080/"
        },
        "id": "yLYCsYXoS2vT",
        "outputId": "32008094-aa3a-4520-9822-2ef7e969057b"
      },
      "source": [
        "sum = 0\n",
        "for i in x:\n",
        "  sum += i\n",
        "print(sum)"
      ],
      "execution_count": 32,
      "outputs": [
        {
          "output_type": "stream",
          "text": [
            "-0.8696644147091606\n"
          ],
          "name": "stdout"
        }
      ]
    },
    {
      "cell_type": "markdown",
      "metadata": {
        "id": "cJaKec6gS2vT"
      },
      "source": [
        "6) La somme des elements de x avec la primitive 'sum' de numpy:"
      ]
    },
    {
      "cell_type": "code",
      "metadata": {
        "colab": {
          "base_uri": "https://localhost:8080/"
        },
        "id": "XiHDYUZnS2vT",
        "outputId": "a22815f0-3500-4884-e5f2-e0d8edb1560b"
      },
      "source": [
        "print(np.sum(x))"
      ],
      "execution_count": 33,
      "outputs": [
        {
          "output_type": "stream",
          "text": [
            "-0.8696644147091606\n"
          ],
          "name": "stdout"
        }
      ]
    },
    {
      "cell_type": "markdown",
      "metadata": {
        "id": "Wiu-F00_S2vT"
      },
      "source": [
        "7) Calculer la norme L_2 de x avec une boucle en utilisant les points 3 et 5:"
      ]
    },
    {
      "cell_type": "code",
      "metadata": {
        "colab": {
          "base_uri": "https://localhost:8080/"
        },
        "id": "B0C2dn75S2vT",
        "outputId": "4e8b09de-12a2-40ec-d58f-871ba039705b"
      },
      "source": [
        "sum2 = 0\n",
        "for i in x:\n",
        "  sum2 += pow(i, 2)\n",
        "\n",
        "print(sum**0.5)"
      ],
      "execution_count": 34,
      "outputs": [
        {
          "output_type": "stream",
          "text": [
            "nan\n"
          ],
          "name": "stdout"
        },
        {
          "output_type": "stream",
          "text": [
            "/usr/local/lib/python3.6/dist-packages/ipykernel_launcher.py:5: RuntimeWarning: invalid value encountered in double_scalars\n",
            "  \"\"\"\n"
          ],
          "name": "stderr"
        }
      ]
    },
    {
      "cell_type": "markdown",
      "metadata": {
        "id": "5lDTeoyaS2vT"
      },
      "source": [
        "8) Calculer la norme L_2 de x sans boucle en utilisant les points 4 et 6:"
      ]
    },
    {
      "cell_type": "code",
      "metadata": {
        "colab": {
          "base_uri": "https://localhost:8080/"
        },
        "id": "kwCEaV-9S2vT",
        "outputId": "42ed4a9a-1438-4d7e-89de-0b84b43bc8d1"
      },
      "source": [
        "print(np.sqrt(np.sum([i**2 for i in x])))"
      ],
      "execution_count": 35,
      "outputs": [
        {
          "output_type": "stream",
          "text": [
            "2.110665329899401\n"
          ],
          "name": "stdout"
        }
      ]
    },
    {
      "cell_type": "markdown",
      "metadata": {
        "id": "zLXiOh3pS2vT"
      },
      "source": [
        "9) Calculer le produit scalaire entre x et y avec une boucle:"
      ]
    },
    {
      "cell_type": "code",
      "metadata": {
        "colab": {
          "base_uri": "https://localhost:8080/"
        },
        "id": "cEt3yZ3xS2vT",
        "outputId": "f343b4ba-b7d2-4480-b108-202facf117ce"
      },
      "source": [
        "prd_sc = 0\n",
        "for i, j in zip(x, y):\n",
        "  prd_sc += i * j\n",
        "\n",
        "print(prd_sc)"
      ],
      "execution_count": 36,
      "outputs": [
        {
          "output_type": "stream",
          "text": [
            "0.6144816595627842\n"
          ],
          "name": "stdout"
        }
      ]
    },
    {
      "cell_type": "markdown",
      "metadata": {
        "id": "eOXwNFR6S2vT"
      },
      "source": [
        "11) Calculer le produit scalaire entre x et y avec la primitive 'dot' de numpy:"
      ]
    },
    {
      "cell_type": "code",
      "metadata": {
        "colab": {
          "base_uri": "https://localhost:8080/"
        },
        "id": "licvoVeqS2vT",
        "outputId": "cd609c2d-c4b7-42d7-8426-b411b4fe9a8a"
      },
      "source": [
        "print(np.dot(x, y))"
      ],
      "execution_count": 37,
      "outputs": [
        {
          "output_type": "stream",
          "text": [
            "0.6144816595627842\n"
          ],
          "name": "stdout"
        }
      ]
    },
    {
      "cell_type": "markdown",
      "metadata": {
        "id": "3bMHEtu_S2vT"
      },
      "source": [
        "## Opérations sur les matrices\n",
        "Cette partie est similaire à la précédente, un point général sur la manière d'instancier les objets sera d'abord fait, puis, vous répondrez à une série de questions en implémentant les bouts de codes demandés.\n",
        "\n",
        "On notra simplement que la différence avec l'instantiation d'un vecteur consiste à préciser les dimensions de deux axes du tableau numpy au lieu d'un seul et que l'accès se fait (presque) maintenant comme pour un tableau classique à deux entrées:"
      ]
    },
    {
      "cell_type": "markdown",
      "metadata": {
        "id": "paQcQEg3S2vT"
      },
      "source": [
        "**Matrice nulle dans 2x2: M1 = np.zeros((2,2))**"
      ]
    },
    {
      "cell_type": "code",
      "metadata": {
        "colab": {
          "base_uri": "https://localhost:8080/"
        },
        "id": "iIMawX7YS2vT",
        "outputId": "cb647542-9aa4-46bf-b23e-52bbe07c3e51"
      },
      "source": [
        "M1 = np.zeros((2,2))\n",
        "print(M1)  "
      ],
      "execution_count": 38,
      "outputs": [
        {
          "output_type": "stream",
          "text": [
            "[[0. 0.]\n",
            " [0. 0.]]\n"
          ],
          "name": "stdout"
        }
      ]
    },
    {
      "cell_type": "markdown",
      "metadata": {
        "id": "5LFeRZvWS2vT"
      },
      "source": [
        "**Matrice 3x3 remplie de 1: M2 = np.ones((3,3))  :**"
      ]
    },
    {
      "cell_type": "code",
      "metadata": {
        "colab": {
          "base_uri": "https://localhost:8080/"
        },
        "id": "8sB5CkW-S2vT",
        "outputId": "a6966bbe-b8ad-422f-cf2d-4f2ad2ebf47b"
      },
      "source": [
        "M2 = np.ones((3,3)) \n",
        "print(M2)  "
      ],
      "execution_count": 39,
      "outputs": [
        {
          "output_type": "stream",
          "text": [
            "[[1. 1. 1.]\n",
            " [1. 1. 1.]\n",
            " [1. 1. 1.]]\n"
          ],
          "name": "stdout"
        }
      ]
    },
    {
      "cell_type": "markdown",
      "metadata": {
        "id": "k_DDzylPS2vT"
      },
      "source": [
        "**Matrice 4x4 aleatoire: M3 = np.random.random((4,4))**"
      ]
    },
    {
      "cell_type": "code",
      "metadata": {
        "colab": {
          "base_uri": "https://localhost:8080/"
        },
        "id": "GL5MjcCMS2vT",
        "outputId": "a9129550-4407-444a-ac6c-0bad7f6992b3"
      },
      "source": [
        "M3 = np.random.random((4,4))\n",
        "print(M3)"
      ],
      "execution_count": 40,
      "outputs": [
        {
          "output_type": "stream",
          "text": [
            "[[0.25569372 0.38545969 0.29093126 0.60287414]\n",
            " [0.18768927 0.62869426 0.02148331 0.11585732]\n",
            " [0.22951308 0.84164517 0.24227616 0.90105637]\n",
            " [0.20411349 0.5975937  0.01437214 0.62874606]]\n"
          ],
          "name": "stdout"
        }
      ]
    },
    {
      "cell_type": "markdown",
      "metadata": {
        "id": "cuifPmuZS2vT"
      },
      "source": [
        "**Matrice identite 5x5: M4 = np.eye(5,5) :**"
      ]
    },
    {
      "cell_type": "code",
      "metadata": {
        "colab": {
          "base_uri": "https://localhost:8080/"
        },
        "id": "7MRCfStnS2vT",
        "outputId": "2e35dffa-64d6-4c89-8ac8-561bc079e0c1"
      },
      "source": [
        "M4 = np.eye(5,5) \n",
        "print(M4)"
      ],
      "execution_count": 41,
      "outputs": [
        {
          "output_type": "stream",
          "text": [
            "[[1. 0. 0. 0. 0.]\n",
            " [0. 1. 0. 0. 0.]\n",
            " [0. 0. 1. 0. 0.]\n",
            " [0. 0. 0. 1. 0.]\n",
            " [0. 0. 0. 0. 1.]]\n"
          ],
          "name": "stdout"
        }
      ]
    },
    {
      "cell_type": "markdown",
      "metadata": {
        "id": "x7uLvbQJS2vT"
      },
      "source": [
        "**Trouver les dimensions du Numpy array: **\n",
        "\n",
        "Soit deux matrices 4x4 M1 et M2"
      ]
    },
    {
      "cell_type": "code",
      "metadata": {
        "colab": {
          "base_uri": "https://localhost:8080/"
        },
        "id": "OzjdxdIjS2vT",
        "outputId": "fbfc2e85-c662-44e4-eba2-dc942c8fdfcd"
      },
      "source": [
        "M1 = np.array([[1,2,3,4], [5,6,7,8], [9,10,11,12], [9,10,11,8]])\n",
        "M2 = np.array([[9,10,11,3], [5,6,7,8], [1,2,3,8], [9,10,11,7]])\n",
        "\n",
        "print(M1)\n",
        "print(M2)"
      ],
      "execution_count": 42,
      "outputs": [
        {
          "output_type": "stream",
          "text": [
            "[[ 1  2  3  4]\n",
            " [ 5  6  7  8]\n",
            " [ 9 10 11 12]\n",
            " [ 9 10 11  8]]\n",
            "[[ 9 10 11  3]\n",
            " [ 5  6  7  8]\n",
            " [ 1  2  3  8]\n",
            " [ 9 10 11  7]]\n"
          ],
          "name": "stdout"
        }
      ]
    },
    {
      "cell_type": "markdown",
      "metadata": {
        "id": "OHdW-f6iS2vT"
      },
      "source": [
        "**Donnez les dimensions de la matrice M1**"
      ]
    },
    {
      "cell_type": "code",
      "metadata": {
        "colab": {
          "base_uri": "https://localhost:8080/"
        },
        "id": "sE4cy_QxS2vT",
        "outputId": "7b716b34-0fcb-4674-85a7-8201c8ed9a32"
      },
      "source": [
        "size = M1.shape\n",
        "nb_lignes = size[0]    \n",
        "nb_colones= size[1]\n",
        "\n",
        "print(size)\n",
        "print(M1)"
      ],
      "execution_count": 43,
      "outputs": [
        {
          "output_type": "stream",
          "text": [
            "(4, 4)\n",
            "[[ 1  2  3  4]\n",
            " [ 5  6  7  8]\n",
            " [ 9 10 11 12]\n",
            " [ 9 10 11  8]]\n"
          ],
          "name": "stdout"
        }
      ]
    },
    {
      "cell_type": "markdown",
      "metadata": {
        "id": "A0XBpLk_S2vT"
      },
      "source": [
        "### Parcours des valeurs de la matrice"
      ]
    },
    {
      "cell_type": "code",
      "metadata": {
        "colab": {
          "base_uri": "https://localhost:8080/"
        },
        "id": "OcgId4TpS2vT",
        "outputId": "ab8090e9-7693-4c47-a1f8-a57844026098"
      },
      "source": [
        "for i in range(nb_lignes):\n",
        "    for j in range(nb_colones):\n",
        "        print(\"La valeur de la composante %d%d est:  = %f\" % (i, j, M1[i,j]))"
      ],
      "execution_count": 44,
      "outputs": [
        {
          "output_type": "stream",
          "text": [
            "La valeur de la composante 00 est:  = 1.000000\n",
            "La valeur de la composante 01 est:  = 2.000000\n",
            "La valeur de la composante 02 est:  = 3.000000\n",
            "La valeur de la composante 03 est:  = 4.000000\n",
            "La valeur de la composante 10 est:  = 5.000000\n",
            "La valeur de la composante 11 est:  = 6.000000\n",
            "La valeur de la composante 12 est:  = 7.000000\n",
            "La valeur de la composante 13 est:  = 8.000000\n",
            "La valeur de la composante 20 est:  = 9.000000\n",
            "La valeur de la composante 21 est:  = 10.000000\n",
            "La valeur de la composante 22 est:  = 11.000000\n",
            "La valeur de la composante 23 est:  = 12.000000\n",
            "La valeur de la composante 30 est:  = 9.000000\n",
            "La valeur de la composante 31 est:  = 10.000000\n",
            "La valeur de la composante 32 est:  = 11.000000\n",
            "La valeur de la composante 33 est:  = 8.000000\n"
          ],
          "name": "stdout"
        }
      ]
    },
    {
      "cell_type": "markdown",
      "metadata": {
        "id": "Qq3QzSuzS2vT"
      },
      "source": [
        "**Donnez la valeure de l'element de la 1er ligne et 3 eme colone de M1**"
      ]
    },
    {
      "cell_type": "code",
      "metadata": {
        "colab": {
          "base_uri": "https://localhost:8080/"
        },
        "id": "LEK1_uJsS2vU",
        "outputId": "909abd85-e9e3-4ae8-f99c-925d9aa4fba6"
      },
      "source": [
        "M1[0,2]"
      ],
      "execution_count": 45,
      "outputs": [
        {
          "output_type": "execute_result",
          "data": {
            "text/plain": [
              "3"
            ]
          },
          "metadata": {
            "tags": []
          },
          "execution_count": 45
        }
      ]
    },
    {
      "cell_type": "markdown",
      "metadata": {
        "id": "TViRKxFAS2vU"
      },
      "source": [
        "**Parcourez les valeur de la matrice M2 avec en bouclant sur les indices**"
      ]
    },
    {
      "cell_type": "code",
      "metadata": {
        "colab": {
          "base_uri": "https://localhost:8080/"
        },
        "id": "P6b7px83S2vU",
        "outputId": "cce96473-b8c0-464e-ee9e-45fb9b5ca408"
      },
      "source": [
        "for i in range(M1.shape[0]):\n",
        "    for j in range(M1.shape[1]):\n",
        "        print(\"La valeur de la composante M1_%d%d est:  = %d\" % (i, j, M1[i,j]))"
      ],
      "execution_count": 46,
      "outputs": [
        {
          "output_type": "stream",
          "text": [
            "La valeur de la composante M1_00 est:  = 1\n",
            "La valeur de la composante M1_01 est:  = 2\n",
            "La valeur de la composante M1_02 est:  = 3\n",
            "La valeur de la composante M1_03 est:  = 4\n",
            "La valeur de la composante M1_10 est:  = 5\n",
            "La valeur de la composante M1_11 est:  = 6\n",
            "La valeur de la composante M1_12 est:  = 7\n",
            "La valeur de la composante M1_13 est:  = 8\n",
            "La valeur de la composante M1_20 est:  = 9\n",
            "La valeur de la composante M1_21 est:  = 10\n",
            "La valeur de la composante M1_22 est:  = 11\n",
            "La valeur de la composante M1_23 est:  = 12\n",
            "La valeur de la composante M1_30 est:  = 9\n",
            "La valeur de la composante M1_31 est:  = 10\n",
            "La valeur de la composante M1_32 est:  = 11\n",
            "La valeur de la composante M1_33 est:  = 8\n"
          ],
          "name": "stdout"
        }
      ]
    },
    {
      "cell_type": "markdown",
      "metadata": {
        "id": "FZ11sEcLS2vU"
      },
      "source": [
        "**Parcourez les vecteurs lignes de la matrice M2 en bouclant directement sur les elements du vecteur**"
      ]
    },
    {
      "cell_type": "code",
      "metadata": {
        "colab": {
          "base_uri": "https://localhost:8080/"
        },
        "id": "ktrx5PM7S2vU",
        "outputId": "7afdaa79-1087-4075-f76d-176d2e379bd1"
      },
      "source": [
        "for v_i in M2:\n",
        "    print(v_i)"
      ],
      "execution_count": 47,
      "outputs": [
        {
          "output_type": "stream",
          "text": [
            "[ 9 10 11  3]\n",
            "[5 6 7 8]\n",
            "[1 2 3 8]\n",
            "[ 9 10 11  7]\n"
          ],
          "name": "stdout"
        }
      ]
    },
    {
      "cell_type": "markdown",
      "metadata": {
        "id": "QOX7wpl7S2vU"
      },
      "source": [
        "**Parcourez les vecteurs colonnes de la matrice M2 en bouclant directement sur les elements du vecteur**\n",
        "\n",
        "Astuce, baladez vous dans les vecteurs lignes de la transpose de la matrice."
      ]
    },
    {
      "cell_type": "code",
      "metadata": {
        "colab": {
          "base_uri": "https://localhost:8080/"
        },
        "id": "XGuHXd54S2vU",
        "outputId": "6f899459-a4d9-4dbe-ac67-76bd41729c97"
      },
      "source": [
        "for v_j in np.transpose(M2):\n",
        "    print(v_j)"
      ],
      "execution_count": 48,
      "outputs": [
        {
          "output_type": "stream",
          "text": [
            "[9 5 1 9]\n",
            "[10  6  2 10]\n",
            "[11  7  3 11]\n",
            "[3 8 8 7]\n"
          ],
          "name": "stdout"
        }
      ]
    },
    {
      "cell_type": "markdown",
      "metadata": {
        "id": "sQj8buorS2vU"
      },
      "source": [
        "**Recuperez les 2 premier vecteurs ligne de M1 en une seule ligne de commande**\n",
        "\n",
        "Quand on ne specifie pas les indices des 2 champs, on a implcitement access aux indices des lignes seuls"
      ]
    },
    {
      "cell_type": "code",
      "metadata": {
        "colab": {
          "base_uri": "https://localhost:8080/"
        },
        "id": "pCfh8Fo9S2vU",
        "outputId": "a9913e11-4fae-4ec6-b7c9-98ca703d2503"
      },
      "source": [
        "M1[:2] #Equivalent a M1[:2 , :]"
      ],
      "execution_count": 49,
      "outputs": [
        {
          "output_type": "execute_result",
          "data": {
            "text/plain": [
              "array([[1, 2, 3, 4],\n",
              "       [5, 6, 7, 8]])"
            ]
          },
          "metadata": {
            "tags": []
          },
          "execution_count": 49
        }
      ]
    },
    {
      "cell_type": "markdown",
      "metadata": {
        "id": "tH6eLM74S2vU"
      },
      "source": [
        "**Recuperer en une seule ligne de commande les 2 derniers vecteurs colones de la matrices M1**\n",
        "\n",
        "Ici on veut agir sur les colonnes, on doit donc specifer les intervals sur les lignes ET les colones."
      ]
    },
    {
      "cell_type": "code",
      "metadata": {
        "colab": {
          "base_uri": "https://localhost:8080/"
        },
        "id": "eaKPv4SIS2vU",
        "outputId": "95ebd575-f799-4edc-b5ca-05b67011391f"
      },
      "source": [
        "nb_col = M1.shape[1]\n",
        "M1_transpose = np.transpose(M1)\n",
        "print(M1_transpose[nb_col - 2:])"
      ],
      "execution_count": 50,
      "outputs": [
        {
          "output_type": "stream",
          "text": [
            "[[ 3  7 11 11]\n",
            " [ 4  8 12  8]]\n"
          ],
          "name": "stdout"
        }
      ]
    },
    {
      "cell_type": "markdown",
      "metadata": {
        "id": "ItptOpmZS2vU"
      },
      "source": [
        " ### PARTIE QUESTIONS : A VOUS DE JOUER !\n",
        "\n",
        "Dans les questions, vous aurez à comprendre comment on effectue un produit matriciel entre deux matrices ou bien entre une matrice et un vecteur. Vous verrez deux manières de procéder: avec une boucle, et avec la primitive $\\texttt{dot(,)}$ de $\\texttt{numpy}$. Le script vous permet de calculer le temps mis pour effecteur ces deux calculs. Pensez bien à écrire votre code entre les deux instructions suivante:"
      ]
    },
    {
      "cell_type": "code",
      "metadata": {
        "id": "VAMII8OZS2vU"
      },
      "source": [
        "import time\n",
        "start_time = time.time()\n",
        "# Votre code pour le produit matricielle ici\n",
        "stop_time =  time.time()"
      ],
      "execution_count": 51,
      "outputs": []
    },
    {
      "cell_type": "markdown",
      "metadata": {
        "id": "woJfR6blS2vU"
      },
      "source": [
        "Comme vous le verrez, la fonction numpy dot est beaucoup plus rapide que votre implémentation à base de boucles car cette fonction optimise très bien les calculs de nature vectorielle. C'est pourquoi il sera toujours intéressant d'écrire vos équations en notation vectorielle afin de les implementer simplement et efficacement par la suite. \\\\\n",
        "\n",
        "\\noindent \\textbf{Note importante: } L'important à retenir est qu'on peut considérer une matrice soit comme une application linéaire soit comme un ensemble de vecteurs (chaque ligne correspond à un vecteur d'apprentissage par exemple). Le produit matricielle entre une matrice $\\mathbf{M1}$ de dimensions $n$ x $k$ ($n$ lignes et $k$ colonnes) et une autre $\\mathbf{M2}$ de dimension $k$ x $m$ donnera un résultat $\\mathbf{M1}\\mathbf{M2}$ (calculé avec np.dot(M1,M2)) de dimensions $n$ x $m$. Autremment dit le nombre de colonnes de la première matrice doit être égale au nombre de lignes de la deuxième matrice. Un vecteur $\\mathbf{x} \\in \\mathbb{R}^d$ correspond à une matrice de dimension $d$ x $1$. On pourra donc calculer le resultat de l'application linéaire décrite par la matrice $\\mathbf{M}$ de dimensions $n$ x $d$ sur le vecteur $\\mathbf{x}$ de dimensions $d$ x $1$ avec np.dot(M,x). Le résultat sera un vecteur $\\mathbf{y} \\in \\mathbb{R}^n$ (représenté par un tableau de dimensions $n$ x $1$). \\\\\n",
        "\n",
        "\\noindent \\textbf{Intuitivement}, appliquer linéairement $\\mathbf{M}$ de dimensions $n$ x $d$ à $\\mathbf{x} \\in \\mathbb{R}^d $ revient à \"\\textit{empiler}\" les résultats des produits scalaires entre $\\mathbf{x}$ et chacun des vecteurs colonne de $\\mathbf{M}$. Si il y a $n$ colonnes, il y aura donc $n$ produits scalaires et donc $n$ valeurs dans le vecteur résultats. Les composantes du vecteur résultat correspondent ainsi aux similarités (au sens de la métrique du produit scalaire) entre $\\mathbf{x} \\in  \\mathbb{R}^d$ et une base de $n$ vecteurs dans $\\mathbb{R}^d$.\n"
      ]
    },
    {
      "cell_type": "markdown",
      "metadata": {
        "id": "WEy1qVkAS2vU"
      },
      "source": [
        "1) Addition de M1  M2:"
      ]
    },
    {
      "cell_type": "code",
      "metadata": {
        "colab": {
          "base_uri": "https://localhost:8080/"
        },
        "id": "Tbv5RczmS2vU",
        "outputId": "7b6c35ef-7768-4b61-eee2-c3b3d1ff879e"
      },
      "source": [
        "print(M1 + M2)"
      ],
      "execution_count": 52,
      "outputs": [
        {
          "output_type": "stream",
          "text": [
            "[[10 12 14  7]\n",
            " [10 12 14 16]\n",
            " [10 12 14 20]\n",
            " [18 20 22 15]]\n"
          ],
          "name": "stdout"
        }
      ]
    },
    {
      "cell_type": "markdown",
      "metadata": {
        "id": "2nNsswc5S2vU"
      },
      "source": [
        "2) Multiplication terme a terme de M1  M2:"
      ]
    },
    {
      "cell_type": "code",
      "metadata": {
        "colab": {
          "base_uri": "https://localhost:8080/"
        },
        "id": "VXxYE8TSS2vU",
        "outputId": "c2259dae-017a-4a45-e304-2a98f396cef2"
      },
      "source": [
        "print(M1 * M2)"
      ],
      "execution_count": 53,
      "outputs": [
        {
          "output_type": "stream",
          "text": [
            "[[  9  20  33  12]\n",
            " [ 25  36  49  64]\n",
            " [  9  20  33  96]\n",
            " [ 81 100 121  56]]\n"
          ],
          "name": "stdout"
        }
      ]
    },
    {
      "cell_type": "markdown",
      "metadata": {
        "id": "cGUPLZv4S2vU"
      },
      "source": [
        "3) Afficher avec une boucle les elements de M1 a la puissance 2:"
      ]
    },
    {
      "cell_type": "code",
      "metadata": {
        "colab": {
          "base_uri": "https://localhost:8080/"
        },
        "id": "SKwwXwKoS2vU",
        "outputId": "bdc8dd7c-5b71-49aa-ee5f-d5488a2d0d0c"
      },
      "source": [
        "for i in M1:\n",
        "  for j in i:\n",
        "    print(j**2)"
      ],
      "execution_count": 54,
      "outputs": [
        {
          "output_type": "stream",
          "text": [
            "1\n",
            "4\n",
            "9\n",
            "16\n",
            "25\n",
            "36\n",
            "49\n",
            "64\n",
            "81\n",
            "100\n",
            "121\n",
            "144\n",
            "81\n",
            "100\n",
            "121\n",
            "64\n"
          ],
          "name": "stdout"
        }
      ]
    },
    {
      "cell_type": "markdown",
      "metadata": {
        "id": "ZOlFV_oFS2vU"
      },
      "source": [
        "4) Generer la matrice M3 contenant les elements de M1 a la puissance 2 en une seule commande:"
      ]
    },
    {
      "cell_type": "code",
      "metadata": {
        "colab": {
          "base_uri": "https://localhost:8080/"
        },
        "id": "oY6KBPlJS2vU",
        "outputId": "2d8bdca2-89b3-4b7f-cd9c-30b224713b0d"
      },
      "source": [
        "M3 = M1**2\n",
        "print(M3)"
      ],
      "execution_count": 55,
      "outputs": [
        {
          "output_type": "stream",
          "text": [
            "[[  1   4   9  16]\n",
            " [ 25  36  49  64]\n",
            " [ 81 100 121 144]\n",
            " [ 81 100 121  64]]\n"
          ],
          "name": "stdout"
        }
      ]
    },
    {
      "cell_type": "markdown",
      "metadata": {
        "id": "H9_XWGMCS2vU"
      },
      "source": [
        "5) La somme des elements de M1 avec une boucle:"
      ]
    },
    {
      "cell_type": "code",
      "metadata": {
        "colab": {
          "base_uri": "https://localhost:8080/"
        },
        "id": "4LliVsRYS2vU",
        "outputId": "447c6a62-6188-4a00-b99b-1e45807a567c"
      },
      "source": [
        "sum = 0\n",
        "for i in M1:\n",
        "  for j in i:\n",
        "    sum += j\n",
        "\n",
        "print(sum)"
      ],
      "execution_count": 56,
      "outputs": [
        {
          "output_type": "stream",
          "text": [
            "116\n"
          ],
          "name": "stdout"
        }
      ]
    },
    {
      "cell_type": "markdown",
      "metadata": {
        "id": "E8NLdnUaS2vU"
      },
      "source": [
        "6) La somme des elements de M1 avec la primitive 'sum' de numpy:"
      ]
    },
    {
      "cell_type": "code",
      "metadata": {
        "colab": {
          "base_uri": "https://localhost:8080/"
        },
        "id": "Tt8cwbzVS2vU",
        "outputId": "c9df9812-4a0f-4495-c09c-2b4ccbd3e4bd"
      },
      "source": [
        "np.sum(M1)"
      ],
      "execution_count": 57,
      "outputs": [
        {
          "output_type": "execute_result",
          "data": {
            "text/plain": [
              "116"
            ]
          },
          "metadata": {
            "tags": []
          },
          "execution_count": 57
        }
      ]
    },
    {
      "cell_type": "markdown",
      "metadata": {
        "id": "CSuVBdUOS2vU"
      },
      "source": [
        "7) Cherchez dans vos souvenir ou sur internet et implementez la formule permettant de calculer le produit matricielle (different du produit terme a terme !) entre M1 et M2 avec une boucle:"
      ]
    },
    {
      "cell_type": "code",
      "metadata": {
        "colab": {
          "base_uri": "https://localhost:8080/"
        },
        "id": "0HZrmYLES2vU",
        "outputId": "7f9b093a-4cc3-4b20-b515-b93add45714a"
      },
      "source": [
        "#On va calculer le temps que cela met avec une boucle\n",
        "#On comparera par la suite ce temps avec celui prit par une autre methode\n",
        "start_time = time.time()\n",
        "M1M2 = np.zeros(M1.shape)       \n",
        "print(M1M2.shape)\n",
        "## Your code here\n",
        "\n",
        "for i in range(M1M2.shape[0]):\n",
        "    for j in range(M1M2.shape[1]):\n",
        "        prodScal=0\n",
        "        for k in range(0,M1.shape[0]):\n",
        "            prodScal+=M1[i,k]*M2[k,j]\n",
        "        M1M2[i,j]=prodScal\n",
        "\n",
        "stop_time =  time.time()\n",
        "\n",
        "print(M1M2)\n",
        "print(\"\\nTemps de calcul = %f secondes\" % (stop_time - start_time))"
      ],
      "execution_count": 68,
      "outputs": [
        {
          "output_type": "stream",
          "text": [
            "(4, 4)\n",
            "[[ 58.  68.  78.  71.]\n",
            " [154. 180. 206. 175.]\n",
            " [250. 292. 334. 279.]\n",
            " [214. 252. 290. 251.]]\n",
            "\n",
            "Temps de calcul = 0.007174 secondes\n"
          ],
          "name": "stdout"
        }
      ]
    },
    {
      "cell_type": "markdown",
      "metadata": {
        "id": "QIqKsvi3S2vU"
      },
      "source": [
        "8) Calculer le produit matricielle entre M1 et M2 avec la primitive 'dot' de numpy:"
      ]
    },
    {
      "cell_type": "code",
      "metadata": {
        "colab": {
          "base_uri": "https://localhost:8080/"
        },
        "id": "GGtGe000S2vU",
        "outputId": "9eacfc42-ee52-4dd5-83c7-066b054910f9"
      },
      "source": [
        "start_time = time.time()\n",
        "# Your code here\n",
        "M1M2 = np.dot(M1, M2)       #retourner le resultat\n",
        "stop_time =  time.time()\n",
        "\n",
        "print(M1M2)\n",
        "print(\"\\nTemps de calcul = %f secondes\" % (stop_time - start_time))"
      ],
      "execution_count": 69,
      "outputs": [
        {
          "output_type": "stream",
          "text": [
            "[[ 58  68  78  71]\n",
            " [154 180 206 175]\n",
            " [250 292 334 279]\n",
            " [214 252 290 251]]\n",
            "\n",
            "Temps de calcul = 0.000160 secondes\n"
          ],
          "name": "stdout"
        }
      ]
    },
    {
      "cell_type": "markdown",
      "metadata": {
        "id": "llCEWgAuS2vU"
      },
      "source": [
        "9) Soit la matrice M3 suivante (aleatoire mais ce n'est pas ce qui est important ici). Calculer le produit matricielle entre M1 et M3 avec la primitive 'dot' de numpy (attention aux dimensions des deux matrices !) :"
      ]
    },
    {
      "cell_type": "code",
      "metadata": {
        "colab": {
          "base_uri": "https://localhost:8080/"
        },
        "id": "VMchFYhhS2vU",
        "outputId": "6fa5a730-7f94-4e30-8133-def314db2266"
      },
      "source": [
        "M3 = np.random.random((10,4)) \n",
        "print(np.dot(M3, M1))"
      ],
      "execution_count": 60,
      "outputs": [
        {
          "output_type": "stream",
          "text": [
            "[[17.72730349 20.62735757 23.52741165 23.13697303]\n",
            " [14.52324302 16.3592428  18.19524257 16.83113492]\n",
            " [21.95929293 25.62944588 29.29959882 29.27828077]\n",
            " [16.28670885 19.28755127 22.2883937  23.75426679]\n",
            " [12.70983648 14.33256634 15.95529621 15.09352375]\n",
            " [ 5.50918978  6.22333007  6.93747037  5.6969445 ]\n",
            " [13.86143902 16.1253096  18.38918018 16.99665997]\n",
            " [ 9.48759491 11.49516024 13.50272558 14.03071117]\n",
            " [ 9.85490954 11.13609131 12.41727308 11.60006114]\n",
            " [12.38834495 14.60675756 16.82517016 18.59651385]]\n"
          ],
          "name": "stdout"
        }
      ]
    },
    {
      "cell_type": "markdown",
      "metadata": {
        "id": "HHyvyuntS2vU"
      },
      "source": [
        "11) Calculer le produit matricielle entre <x , M3> avec la primitive 'dot' de numpy:"
      ]
    },
    {
      "cell_type": "code",
      "metadata": {
        "colab": {
          "base_uri": "https://localhost:8080/"
        },
        "id": "S-jPuDCGS2vU",
        "outputId": "667e251b-5f79-4419-9d34-04dc7fd65493"
      },
      "source": [
        "print(np.dot(M3, x))"
      ],
      "execution_count": 65,
      "outputs": [
        {
          "output_type": "stream",
          "text": [
            "[-1.21445216  0.41107534 -1.0812986  -1.38093986  0.08733568  0.36353197\n",
            " -0.92456051 -0.36479382 -0.06335841 -1.49040907]\n"
          ],
          "name": "stdout"
        }
      ]
    },
    {
      "cell_type": "markdown",
      "metadata": {
        "id": "Rcl-IrmlS2vU"
      },
      "source": [
        "12) Calculer le produit matricielle entre <M3 , x> avec la primitive 'dot' de numpy (qu'est ce qui change ?) :\")\n",
        "HINT: Pensez à la transposée de vos structures pour aligner leurs dimensions !"
      ]
    },
    {
      "cell_type": "code",
      "metadata": {
        "id": "6iRspJGWS2vU"
      },
      "source": [
        "print(np.dot(M3, np.transpose(x)))"
      ],
      "execution_count": null,
      "outputs": []
    }
  ]
}